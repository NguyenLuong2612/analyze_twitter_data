{
 "cells": [
  {
   "cell_type": "code",
   "execution_count": 3,
   "id": "25a16af1",
   "metadata": {},
   "outputs": [
    {
     "name": "stdout",
     "output_type": "stream",
     "text": [
      "\n",
      "added 1 package in 3s\n",
      "\n",
      "24 packages are looking for funding\n",
      "  run `npm fund` for details\n"
     ]
    }
   ],
   "source": [
    "import os\n",
    "import pandas as pd\n",
    "!npm install -g npm@10.5.0"
   ]
  },
  {
   "cell_type": "code",
   "execution_count": null,
   "id": "32f3c533",
   "metadata": {},
   "outputs": [],
   "source": [
    "filename = f'data.csv'\n",
    "search_keywords = ''"
   ]
  },
  {
   "cell_type": "code",
   "execution_count": 15,
   "id": "7af77801",
   "metadata": {},
   "outputs": [
    {
     "data": {
      "text/plain": [
       "0"
      ]
     },
     "execution_count": 15,
     "metadata": {},
     "output_type": "execute_result"
    }
   ],
   "source": [
    "limit = 50\n",
    "twitter_auth_token = 'your_token' \n",
    "os.system(f'npx --yes tweet-harvest@latest -o \"{filename}\" -s \"{search_keywords}\" -l {limit} --token {twitter_auth_token}')"
   ]
  }
 ],
 "metadata": {
  "kernelspec": {
   "display_name": "Python 3 (ipykernel)",
   "language": "python",
   "name": "python3"
  },
  "language_info": {
   "codemirror_mode": {
    "name": "ipython",
    "version": 3
   },
   "file_extension": ".py",
   "mimetype": "text/x-python",
   "name": "python",
   "nbconvert_exporter": "python",
   "pygments_lexer": "ipython3",
   "version": "3.11.4"
  }
 },
 "nbformat": 4,
 "nbformat_minor": 5
}
